{
 "cells": [
  {
   "cell_type": "code",
   "execution_count": 7,
   "id": "46a73674-9623-48c3-aeec-dda634bb82c2",
   "metadata": {},
   "outputs": [],
   "source": [
    "import pandas as pd\n",
    "from sklearn.model_selection import train_test_split, GridSearchCV\n",
    "from sklearn.preprocessing import StandardScaler, OneHotEncoder\n",
    "from sklearn.compose import ColumnTransformer\n",
    "from sklearn.pipeline import Pipeline\n",
    "from sklearn.ensemble import RandomForestClassifier\n",
    "import joblib\n"
   ]
  },
  {
   "cell_type": "code",
   "execution_count": 2,
   "id": "7183300a-a462-44ec-b5df-c068eababb6d",
   "metadata": {
    "scrolled": true
   },
   "outputs": [],
   "source": [
    "data = pd.read_csv('vct-data.csv')\n"
   ]
  },
  {
   "cell_type": "code",
   "execution_count": 3,
   "id": "1b1bd5d2-3527-4150-b1fc-ed4a638992ab",
   "metadata": {
    "scrolled": true
   },
   "outputs": [],
   "source": [
    "def preprocess_data(data):\n",
    "    # Group the data by matches (assuming each match has 10 rows)\n",
    "    grouped = data.groupby(data.index // 10)\n",
    "    \n",
    "    processed_data = []\n",
    "    for _, match in grouped:\n",
    "        team_a = match.iloc[:5]\n",
    "        team_b = match.iloc[5:]\n",
    "        \n",
    "        row = {\n",
    "            'Map': match['Map'].iloc[0],\n",
    "            'Outcome': 1 if team_a['Total Wins By Map'].iloc[0] > 0 else 0\n",
    "        }\n",
    "        \n",
    "        for team, prefix in [(team_a, 'Team A '), (team_b, 'Team B ')]:\n",
    "            for _, player in team.iterrows():\n",
    "                row[f\"{prefix}{player['Agent']}\"] = 1\n",
    "        \n",
    "        processed_data.append(row)\n",
    "    \n",
    "    return pd.DataFrame(processed_data).fillna(0)\n",
    "\n"
   ]
  },
  {
   "cell_type": "code",
   "execution_count": 8,
   "id": "72b91dac-a24f-400b-b3dc-b16a0c4a3c6e",
   "metadata": {},
   "outputs": [
    {
     "name": "stdout",
     "output_type": "stream",
     "text": [
      "Best parameters: {'classifier__max_depth': 10, 'classifier__min_samples_split': 5, 'classifier__n_estimators': 300}\n",
      "Best cross-validation score: 0.5346485411140585\n"
     ]
    },
    {
     "data": {
      "text/plain": [
       "['best_model.pkl']"
      ]
     },
     "execution_count": 8,
     "metadata": {},
     "output_type": "execute_result"
    }
   ],
   "source": [
    "# Load data\n",
    "data = pd.read_csv('vct-data.csv')\n",
    "data_processed = preprocess_data(data)\n",
    "\n",
    "# Split features and target\n",
    "X = data_processed.drop('Outcome', axis=1)\n",
    "y = data_processed['Outcome']\n",
    "\n",
    "# Split the data\n",
    "X_train, X_test, y_train, y_test = train_test_split(X, y, test_size=0.2, random_state=42)\n",
    "\n",
    "# Define the preprocessing steps\n",
    "preprocessor = ColumnTransformer(\n",
    "    transformers=[\n",
    "        ('num', StandardScaler(), X.select_dtypes(include=['int64', 'float64']).columns),\n",
    "        ('cat', OneHotEncoder(handle_unknown='ignore', sparse_output=False), ['Map'])\n",
    "    ])\n",
    "\n",
    "# Set output for consistent DataFrame\n",
    "preprocessor.set_output(transform=\"pandas\")\n",
    "\n",
    "# Create a pipeline\n",
    "pipeline = Pipeline([\n",
    "    ('preprocessor', preprocessor),\n",
    "    ('classifier', RandomForestClassifier(random_state=42))\n",
    "])\n",
    "\n",
    "# Set output for consistent DataFrame\n",
    "pipeline.set_output(transform=\"pandas\")\n",
    "\n",
    "# Define the parameter grid\n",
    "param_grid = {\n",
    "    'classifier__n_estimators': [100, 200, 300],\n",
    "    'classifier__max_depth': [5, 10, None],\n",
    "    'classifier__min_samples_split': [2, 5, 10]\n",
    "}\n",
    "\n",
    "# Perform grid search\n",
    "grid_search = GridSearchCV(pipeline, param_grid, cv=5, scoring='accuracy', n_jobs=-1)\n",
    "grid_search.fit(X_train, y_train)\n",
    "\n",
    "# Print the best parameters and score\n",
    "print(\"Best parameters:\", grid_search.best_params_)\n",
    "print(\"Best cross-validation score:\", grid_search.best_score_)\n",
    "\n",
    "# Evaluate on the test set\n",
    "y_pred = grid_search.predict(X_test)\n",
    "\n",
    "# Save the model\n",
    "joblib.dump(grid_search, 'best_model.pkl')"
   ]
  }
 ],
 "metadata": {
  "kernelspec": {
   "display_name": "Python 3 (ipykernel)",
   "language": "python",
   "name": "python3"
  },
  "language_info": {
   "codemirror_mode": {
    "name": "ipython",
    "version": 3
   },
   "file_extension": ".py",
   "mimetype": "text/x-python",
   "name": "python",
   "nbconvert_exporter": "python",
   "pygments_lexer": "ipython3",
   "version": "3.12.0"
  }
 },
 "nbformat": 4,
 "nbformat_minor": 5
}
